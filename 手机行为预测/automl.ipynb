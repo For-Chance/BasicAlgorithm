{
  "nbformat": 4,
  "nbformat_minor": 0,
  "metadata": {
    "colab": {
      "name": "automl.ipynb",
      "provenance": [],
      "authorship_tag": "ABX9TyNYbw+ZlNdEiynh7kfDL7xX",
      "include_colab_link": true
    },
    "kernelspec": {
      "name": "python3",
      "display_name": "Python 3"
    },
    "language_info": {
      "name": "python"
    },
    "accelerator": "GPU",
    "gpuClass": "standard"
  },
  "cells": [
    {
      "cell_type": "markdown",
      "metadata": {
        "id": "view-in-github",
        "colab_type": "text"
      },
      "source": [
        "<a href=\"https://colab.research.google.com/github/For-Chance/BasicAlgorithm/blob/master/%E6%89%8B%E6%9C%BA%E8%A1%8C%E4%B8%BA%E9%A2%84%E6%B5%8B/automl.ipynb\" target=\"_parent\"><img src=\"https://colab.research.google.com/assets/colab-badge.svg\" alt=\"Open In Colab\"/></a>"
      ]
    },
    {
      "cell_type": "code",
      "execution_count": 1,
      "metadata": {
        "id": "3sxzdcafJrgV"
      },
      "outputs": [],
      "source": [
        "%%capture\n",
        "!pip install autogluon"
      ]
    },
    {
      "cell_type": "code",
      "source": [
        "from autogluon.tabular import TabularDataset, TabularPredictor"
      ],
      "metadata": {
        "id": "iiLsZo4DJ99s"
      },
      "execution_count": 2,
      "outputs": []
    },
    {
      "cell_type": "code",
      "source": [
        "import pandas as pd\n",
        "import numpy as np"
      ],
      "metadata": {
        "id": "XUj86RbRKhuw"
      },
      "execution_count": 3,
      "outputs": []
    },
    {
      "cell_type": "code",
      "source": [
        "train_df = pd.read_csv('train.csv.zip')\n",
        "test_df = pd.read_csv('test.csv.zip')"
      ],
      "metadata": {
        "id": "-RCBPRQqKAbH"
      },
      "execution_count": 4,
      "outputs": []
    },
    {
      "cell_type": "code",
      "source": [
        "train_df.shape,test_df.shape"
      ],
      "metadata": {
        "colab": {
          "base_uri": "https://localhost:8080/"
        },
        "id": "s7rkDQZlNcUe",
        "outputId": "7a18b086-b567-4686-86bb-7c2bcb5fbbd5"
      },
      "execution_count": 5,
      "outputs": [
        {
          "output_type": "execute_result",
          "data": {
            "text/plain": [
              "((8000, 562), (2000, 561))"
            ]
          },
          "metadata": {},
          "execution_count": 5
        }
      ]
    },
    {
      "cell_type": "code",
      "source": [
        "%%time\n",
        "# Demonstrate an auto-referencing process\n",
        "save_path = 'best_model'\n",
        "model = TabularPredictor(label='Activity', path=save_path).fit(\n",
        "  train_df\n",
        ")"
      ],
      "metadata": {
        "colab": {
          "base_uri": "https://localhost:8080/"
        },
        "id": "LtIDPvWrKFSP",
        "outputId": "ee000e50-8764-4201-92fa-5bf47354d3b2"
      },
      "execution_count": 8,
      "outputs": [
        {
          "output_type": "stream",
          "name": "stderr",
          "text": [
            "Warning: path already exists! This predictor may overwrite an existing predictor! path=\"best_model\"\n",
            "Beginning AutoGluon training ...\n",
            "AutoGluon will save models to \"best_model/\"\n",
            "AutoGluon Version:  0.5.0\n",
            "Python Version:     3.7.13\n",
            "Operating System:   Linux\n",
            "Train Data Rows:    8000\n",
            "Train Data Columns: 561\n",
            "Label Column: Activity\n",
            "Preprocessing data ...\n",
            "AutoGluon infers your prediction problem is: 'multiclass' (because dtype of label-column == object).\n",
            "\t6 unique label values:  ['WALKING_UPSTAIRS', 'WALKING', 'LAYING', 'STANDING', 'WALKING_DOWNSTAIRS', 'SITTING']\n",
            "\tIf 'multiclass' is not the correct problem_type, please manually specify the problem_type parameter during predictor init (You may specify problem_type as one of: ['binary', 'multiclass', 'regression'])\n",
            "Train Data Class Count: 6\n",
            "Using Feature Generators to preprocess the data ...\n",
            "Fitting AutoMLPipelineFeatureGenerator...\n",
            "\tAvailable Memory:                    12049.35 MB\n",
            "\tTrain Data (Original)  Memory Usage: 35.9 MB (0.3% of available memory)\n",
            "\tInferring data type of each feature based on column values. Set feature_metadata_in to manually specify special dtypes of the features.\n",
            "\tStage 1 Generators:\n",
            "\t\tFitting AsTypeFeatureGenerator...\n",
            "\tStage 2 Generators:\n",
            "\t\tFitting FillNaFeatureGenerator...\n",
            "\tStage 3 Generators:\n",
            "\t\tFitting IdentityFeatureGenerator...\n",
            "\tStage 4 Generators:\n",
            "\t\tFitting DropUniqueFeatureGenerator...\n",
            "\tTypes of features in original data (raw dtype, special dtypes):\n",
            "\t\t('float', []) : 561 | ['tBodyAcc-mean()-X', 'tBodyAcc-mean()-Y', 'tBodyAcc-mean()-Z', 'tBodyAcc-std()-X', 'tBodyAcc-std()-Y', ...]\n",
            "\tTypes of features in processed data (raw dtype, special dtypes):\n",
            "\t\t('float', []) : 561 | ['tBodyAcc-mean()-X', 'tBodyAcc-mean()-Y', 'tBodyAcc-mean()-Z', 'tBodyAcc-std()-X', 'tBodyAcc-std()-Y', ...]\n",
            "\t1.0s = Fit runtime\n",
            "\t561 features in original data used to generate 561 features in processed data.\n",
            "\tTrain Data (Processed) Memory Usage: 35.9 MB (0.3% of available memory)\n",
            "Data preprocessing and feature engineering runtime = 1.23s ...\n",
            "AutoGluon will gauge predictive performance using evaluation metric: 'accuracy'\n",
            "\tTo change this, specify the eval_metric parameter of Predictor()\n",
            "Automatically generating train/validation split with holdout_frac=0.1, Train Rows: 7200, Val Rows: 800\n",
            "Fitting 13 L1 models ...\n",
            "Fitting model: KNeighborsUnif ...\n",
            "\t0.9588\t = Validation score   (accuracy)\n",
            "\t0.23s\t = Training   runtime\n",
            "\t0.4s\t = Validation runtime\n",
            "Fitting model: KNeighborsDist ...\n",
            "\t0.9588\t = Validation score   (accuracy)\n",
            "\t0.19s\t = Training   runtime\n",
            "\t0.41s\t = Validation runtime\n",
            "Fitting model: NeuralNetFastAI ...\n",
            "\t0.9738\t = Validation score   (accuracy)\n",
            "\t12.06s\t = Training   runtime\n",
            "\t0.15s\t = Validation runtime\n",
            "Fitting model: LightGBMXT ...\n",
            "\t0.9725\t = Validation score   (accuracy)\n",
            "\t101.0s\t = Training   runtime\n",
            "\t0.07s\t = Validation runtime\n",
            "Fitting model: LightGBM ...\n",
            "\t0.9662\t = Validation score   (accuracy)\n",
            "\t163.38s\t = Training   runtime\n",
            "\t0.08s\t = Validation runtime\n",
            "Fitting model: RandomForestGini ...\n",
            "\t0.9362\t = Validation score   (accuracy)\n",
            "\t28.91s\t = Training   runtime\n",
            "\t0.21s\t = Validation runtime\n",
            "Fitting model: RandomForestEntr ...\n",
            "\t0.9375\t = Validation score   (accuracy)\n",
            "\t57.13s\t = Training   runtime\n",
            "\t0.21s\t = Validation runtime\n",
            "Fitting model: CatBoost ...\n",
            "\t0.9662\t = Validation score   (accuracy)\n",
            "\t961.23s\t = Training   runtime\n",
            "\t0.02s\t = Validation runtime\n",
            "Fitting model: ExtraTreesGini ...\n",
            "\t0.9388\t = Validation score   (accuracy)\n",
            "\t4.02s\t = Training   runtime\n",
            "\t0.21s\t = Validation runtime\n",
            "Fitting model: ExtraTreesEntr ...\n",
            "\t0.9262\t = Validation score   (accuracy)\n",
            "\t4.34s\t = Training   runtime\n",
            "\t0.2s\t = Validation runtime\n",
            "Fitting model: XGBoost ...\n",
            "\t0.9612\t = Validation score   (accuracy)\n",
            "\t140.74s\t = Training   runtime\n",
            "\t0.04s\t = Validation runtime\n",
            "Fitting model: NeuralNetTorch ...\n",
            "\t0.9688\t = Validation score   (accuracy)\n",
            "\t18.47s\t = Training   runtime\n",
            "\t0.15s\t = Validation runtime\n",
            "Fitting model: LightGBMLarge ...\n"
          ]
        },
        {
          "output_type": "stream",
          "name": "stdout",
          "text": [
            "[1000]\tvalid_set's multi_error: 0.05125\n"
          ]
        },
        {
          "output_type": "stream",
          "name": "stderr",
          "text": [
            "\t0.9488\t = Validation score   (accuracy)\n",
            "\t444.57s\t = Training   runtime\n",
            "\t0.19s\t = Validation runtime\n",
            "Fitting model: WeightedEnsemble_L2 ...\n",
            "\t0.985\t = Validation score   (accuracy)\n",
            "\t0.41s\t = Training   runtime\n",
            "\t0.0s\t = Validation runtime\n",
            "AutoGluon training complete, total runtime = 1945.34s ... Best model: \"WeightedEnsemble_L2\"\n",
            "TabularPredictor saved. To load, use: predictor = TabularPredictor.load(\"best_model/\")\n"
          ]
        },
        {
          "output_type": "stream",
          "name": "stdout",
          "text": [
            "CPU times: user 33min 54s, sys: 4.86 s, total: 33min 59s\n",
            "Wall time: 32min 25s\n"
          ]
        }
      ]
    },
    {
      "cell_type": "code",
      "source": [
        "model = TabularPredictor.load(save_path)\n",
        "pred = model.predict(test_df)\n",
        "pred.to_csv('submission.csv')"
      ],
      "metadata": {
        "id": "b7sLfg8wKx6m"
      },
      "execution_count": 9,
      "outputs": []
    }
  ]
}